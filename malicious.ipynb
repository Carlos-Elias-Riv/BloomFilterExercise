{
 "cells": [
  {
   "cell_type": "markdown",
   "metadata": {},
   "source": [
    "##### Importamos las librerías necesarias"
   ]
  },
  {
   "cell_type": "code",
   "execution_count": 14,
   "metadata": {},
   "outputs": [],
   "source": [
    "import hashlib as hl\n",
    "import numpy as np\n",
    "import math as mth\n",
    "## esta nos servirá después\n",
    "import pandas as pd\n",
    "import random as rnd"
   ]
  },
  {
   "cell_type": "markdown",
   "metadata": {},
   "source": [
    "##### Nuestra implementación de bloom filter"
   ]
  },
  {
   "cell_type": "code",
   "execution_count": 25,
   "metadata": {},
   "outputs": [],
   "source": [
    "class BloomFilter():\n",
    "  def __init__(self, m=10, k=1):\n",
    "    # en realidad estas tres líneas de código son una \"funcion\"\n",
    "    # de cuantos veces haremos la llamada a md5 y cuantos cachos tomamos de el\n",
    "    self.bits = mth.ceil(mth.log(m,2))\n",
    "    #cuantos cachos de caracteres voy a tomar del objeto \n",
    "    self.caracteres_hexa = mth.ceil(self.bits/4) \n",
    "    # cuantos procesos voy a hacer, dividimos entre 32\n",
    "    # porque ese es el tamaño de hl.md5().hexdigest()\n",
    "    # la complejidad de insertar: O(procesosMD5) en realidad es O(k)\n",
    "    self.procesosMD5 = mth.ceil(k*self.caracteres_hexa/32)\n",
    "    self.m = m\n",
    "    self.k = k\n",
    "    self.bloom = np.zeros(m, dtype = bool)\n",
    "\n",
    "  def calculaKposiciones(self, objeto: str):\n",
    "    # Regresa k posiciones para poner en True en el bloom\n",
    "    posiciones = []\n",
    "    hash = ''\n",
    "\n",
    "    # al hacer este for estoy repitiendo mi string\n",
    "    # digamos que mi resultado de hl.md5(cadena2.encode('utf-8')).hexdigest()\n",
    "    # es: 1983adf (no es real porque en realidad es de tamaño 32)\n",
    "    # despues de esto mi hash seria 1983adf1983adf...1983adf\n",
    "    for procesos in range(self.procesosMD5):\n",
    "      cadena2 = objeto +str(procesos)\n",
    "      # la funcion hl.md5() necesita recibir el string encoded\n",
    "      # luego regresa un objeto al que podemso aplicar hexdigest\n",
    "      hexa = hl.md5(cadena2.encode('utf-8')).hexdigest()\n",
    "      hash += hexa\n",
    "\n",
    "\n",
    "    ## k * caracteres_hexa me dice cuantos caracteres voy a tomar\n",
    "    ## la manera en la que iteramos es sobre bloques caracteres_hexa\n",
    "    ## hace sentido porque k * caracteres_hexa/caracteres_hexa = k\n",
    "    for i in range(0, self.k*self.caracteres_hexa, self.caracteres_hexa):\n",
    "      # int(hexa, 16) tiene que tener modulo m para que quepa en el arreglo\n",
    "      valor = int(hash[i:i + self.caracteres_hexa], 16) % self.m\n",
    "      posiciones.append(valor)\n",
    "\n",
    "\n",
    "    return posiciones\n",
    "\n",
    "  def inserta(self, objeto: str):\n",
    "    posiciones = self.calculaKposiciones(objeto)\n",
    "\n",
    "    for pos in posiciones:\n",
    "      self.bloom[pos] = True\n",
    "\n",
    "  def busca(self, objeto: str):\n",
    "    posiciones = self.calculaKposiciones(objeto)\n",
    "    i = 0\n",
    "    found = True\n",
    "    while i < len(posiciones) and found:\n",
    "      found = self.bloom[posiciones[i]]\n",
    "      i +=1\n",
    "\n",
    "    return found\n"
   ]
  },
  {
   "cell_type": "markdown",
   "metadata": {},
   "source": [
    "#### No hemos trabajado con bloom filters así que hagamos un ejercicio primero"
   ]
  },
  {
   "cell_type": "code",
   "execution_count": 15,
   "metadata": {},
   "outputs": [],
   "source": [
    "def generaStrAzar(n):\n",
    "  res=''\n",
    "  for i in range(n):\n",
    "    res+=chr(rnd.randint(65,91))\n",
    "  return res"
   ]
  },
  {
   "cell_type": "code",
   "execution_count": 22,
   "metadata": {},
   "outputs": [],
   "source": [
    "datos = [generaStrAzar(5) for i in range(20)]\n",
    "mitad = int(len(datos)/2)\n",
    "particion1 = datos[:mitad]\n",
    "particion2 = datos[mitad:]\n",
    "## revisamos que en efecto sean particiones\n",
    "for elem in particion1: \n",
    "    if elem in particion2: \n",
    "        print(\"no es particion\")"
   ]
  },
  {
   "cell_type": "markdown",
   "metadata": {},
   "source": [
    "#### vamos a insertar la particion1 solamente y luego vamos a preguntar si los datos de particion2 están en el bloom filter"
   ]
  },
  {
   "cell_type": "code",
   "execution_count": 73,
   "metadata": {},
   "outputs": [
    {
     "name": "stdout",
     "output_type": "stream",
     "text": [
      "Encontre los valores de m y k y son 31 3, 0.1, 1\n"
     ]
    }
   ],
   "source": [
    "yaloencontre = False\n",
    "for m in range(30, 400):\n",
    "    limite = int(m/2 + 1)\n",
    "    for k in range(1, limite):\n",
    "        bloom = BloomFilter(m, k)\n",
    "        for elem in particion1: \n",
    "            bloom.inserta(elem)\n",
    "            \n",
    "        fpcount = 0\n",
    "        for elem in particion2:\n",
    "            if bloom.busca(elem):\n",
    "                fpcount+=1\n",
    "    \n",
    "        if fpcount/len(particion2) <= .1:\n",
    "            print(f\"Encontre los valores de m y k y son {m} {k}, {fpcount/len(particion2)}, {fpcount}\")\n",
    "            yaloencontre = True\n",
    "\n",
    "    if yaloencontre:\n",
    "        break\n",
    "            \n",
    "\n"
   ]
  },
  {
   "cell_type": "code",
   "execution_count": 72,
   "metadata": {},
   "outputs": [
    {
     "name": "stdout",
     "output_type": "stream",
     "text": [
      "Encontre un bug con el elemento SVDZI\n",
      "Encontre un bug con el elemento TQGNX\n",
      "Encontre un bug con el elemento IKSVW\n",
      "Encontre un bug con el elemento AU[AE\n",
      "Encontre un bug con el elemento CBPKD\n",
      "Encontre un bug con el elemento BWMNA\n",
      "Encontre un bug con el elemento AGSQN\n",
      "Encontre un bug con el elemento HLFUI\n",
      "al final tuve 8 falsos positivos\n",
      "Mi porcentaje de falsos positivos es: 0.8\n"
     ]
    }
   ],
   "source": [
    "bloom = BloomFilter(m=30, k=8)\n",
    "\n",
    "## insertar los datos\n",
    "for elem in particion1: \n",
    "    bloom.inserta(elem)\n",
    "\n",
    "## preguntar por los datos que no metimos\n",
    "fpcount = 0\n",
    "for elem in particion2:\n",
    "    if bloom.busca(elem):\n",
    "        print(f\"Encontre un bug con el elemento {elem}\")\n",
    "        fpcount += 1\n",
    "\n",
    "print(f'al final tuve {fpcount} falsos positivos')\n",
    "print(f'Mi porcentaje de falsos positivos es: {fpcount/len(particion2)}')"
   ]
  },
  {
   "cell_type": "markdown",
   "metadata": {},
   "source": [
    "#### Ahora sí usemos los datos para el experimento"
   ]
  },
  {
   "cell_type": "code",
   "execution_count": 1,
   "metadata": {},
   "outputs": [],
   "source": [
    "df = pd.read_csv(\"malicious_phish.csv\")\n",
    "\n",
    "df['malicious'] = df['type'].apply(lambda x: 1 if x!= 'benign' else 0)\n"
   ]
  },
  {
   "cell_type": "code",
   "execution_count": 2,
   "metadata": {},
   "outputs": [
    {
     "data": {
      "text/html": [
       "<div>\n",
       "<style scoped>\n",
       "    .dataframe tbody tr th:only-of-type {\n",
       "        vertical-align: middle;\n",
       "    }\n",
       "\n",
       "    .dataframe tbody tr th {\n",
       "        vertical-align: top;\n",
       "    }\n",
       "\n",
       "    .dataframe thead th {\n",
       "        text-align: right;\n",
       "    }\n",
       "</style>\n",
       "<table border=\"1\" class=\"dataframe\">\n",
       "  <thead>\n",
       "    <tr style=\"text-align: right;\">\n",
       "      <th></th>\n",
       "      <th>url</th>\n",
       "      <th>type</th>\n",
       "      <th>malicious</th>\n",
       "    </tr>\n",
       "  </thead>\n",
       "  <tbody>\n",
       "    <tr>\n",
       "      <th>0</th>\n",
       "      <td>br-icloud.com.br</td>\n",
       "      <td>phishing</td>\n",
       "      <td>1</td>\n",
       "    </tr>\n",
       "    <tr>\n",
       "      <th>1</th>\n",
       "      <td>mp3raid.com/music/krizz_kaliko.html</td>\n",
       "      <td>benign</td>\n",
       "      <td>0</td>\n",
       "    </tr>\n",
       "    <tr>\n",
       "      <th>2</th>\n",
       "      <td>bopsecrets.org/rexroth/cr/1.htm</td>\n",
       "      <td>benign</td>\n",
       "      <td>0</td>\n",
       "    </tr>\n",
       "    <tr>\n",
       "      <th>3</th>\n",
       "      <td>http://www.garage-pirenne.be/index.php?option=...</td>\n",
       "      <td>defacement</td>\n",
       "      <td>1</td>\n",
       "    </tr>\n",
       "    <tr>\n",
       "      <th>4</th>\n",
       "      <td>http://adventure-nicaragua.net/index.php?optio...</td>\n",
       "      <td>defacement</td>\n",
       "      <td>1</td>\n",
       "    </tr>\n",
       "  </tbody>\n",
       "</table>\n",
       "</div>"
      ],
      "text/plain": [
       "                                                 url        type  malicious\n",
       "0                                   br-icloud.com.br    phishing          1\n",
       "1                mp3raid.com/music/krizz_kaliko.html      benign          0\n",
       "2                    bopsecrets.org/rexroth/cr/1.htm      benign          0\n",
       "3  http://www.garage-pirenne.be/index.php?option=...  defacement          1\n",
       "4  http://adventure-nicaragua.net/index.php?optio...  defacement          1"
      ]
     },
     "execution_count": 2,
     "metadata": {},
     "output_type": "execute_result"
    }
   ],
   "source": [
    "df.head(5)"
   ]
  },
  {
   "cell_type": "code",
   "execution_count": 3,
   "metadata": {},
   "outputs": [],
   "source": [
    "datos_insertar = df[df['malicious'] == 1]"
   ]
  },
  {
   "cell_type": "code",
   "execution_count": 4,
   "metadata": {},
   "outputs": [],
   "source": [
    "datos_revisar = df[df['malicious'] == 0]"
   ]
  },
  {
   "cell_type": "code",
   "execution_count": 5,
   "metadata": {},
   "outputs": [],
   "source": [
    "datos_insertar.to_csv(\"insercionBF.csv\", index=False)\n",
    "datos_revisar.to_csv(\"revisarBF.csv\", index=False)"
   ]
  },
  {
   "cell_type": "code",
   "execution_count": 7,
   "metadata": {},
   "outputs": [
    {
     "data": {
      "text/plain": [
       "1284309"
      ]
     },
     "execution_count": 7,
     "metadata": {},
     "output_type": "execute_result"
    }
   ],
   "source": [
    "datos_revisar.size"
   ]
  },
  {
   "cell_type": "code",
   "execution_count": 8,
   "metadata": {},
   "outputs": [
    {
     "data": {
      "text/plain": [
       "669264"
      ]
     },
     "execution_count": 8,
     "metadata": {},
     "output_type": "execute_result"
    }
   ],
   "source": [
    "datos_insertar.size"
   ]
  },
  {
   "cell_type": "code",
   "execution_count": 11,
   "metadata": {},
   "outputs": [
    {
     "name": "stdout",
     "output_type": "stream",
     "text": [
      "0 br-icloud.com.br\n",
      "1 http://www.garage-pirenne.be/index.php?option=com_content&view=article&id=70&vsig70_0=15\n",
      "2 http://adventure-nicaragua.net/index.php?option=com_mailto&tmpl=component&link=aHR0cDovL2FkdmVudHVyZS1uaWNhcmFndWEubmV0L2luZGV4LnBocD9vcHRpb249Y29tX2NvbnRlbnQmdmlldz1hcnRpY2xlJmlkPTQ3OmFib3V0JmNhdGlkPTM2OmRlbW8tYXJ0aWNsZXMmSXRlbWlkPTU0\n",
      "3 http://www.pashminaonline.com/pure-pashminas\n",
      "4 http://www.ikenmijnkunst.nl/index.php/exposities/exposities-2006\n",
      "5 http://www.lebensmittel-ueberwachung.de/index.php/aktuelles.1\n",
      "6 http://www.szabadmunkaero.hu/cimoldal.html?start=12\n",
      "7 http://larcadelcarnevale.com/catalogo/palloncini\n"
     ]
    }
   ],
   "source": [
    "## Iterar sobre los elementos de un dataframe, para poder insertarlos al bloom\n",
    "\n",
    "for idx, elem in enumerate(datos_insertar['url']):\n",
    "    if idx > 7: \n",
    "        break\n",
    "    print(idx, elem)"
   ]
  },
  {
   "cell_type": "code",
   "execution_count": null,
   "metadata": {},
   "outputs": [],
   "source": [
    "## iterar sobre los elementos del dataframe, para revisar si están o no\n",
    "# sabemos por fact que ninguno de estos están en el bloom\n",
    "\n",
    "for idx, elem in enumerate(datos_revisar['url']):\n",
    "    if idx > 5: \n",
    "        break\n",
    "\n",
    "    print(elem)"
   ]
  },
  {
   "cell_type": "markdown",
   "metadata": {},
   "source": [
    "#### Una opción que les propongo para graficar: "
   ]
  },
  {
   "cell_type": "markdown",
   "metadata": {},
   "source": [
    "##### Para hacer esta opción tienen que guardar sus datos en un dataframe o un diccionario de manera que tengan una columna que sea m otra que sea k y otra que sea fp (%falsos positivos) para esos valores de m y k"
   ]
  },
  {
   "cell_type": "code",
   "execution_count": null,
   "metadata": {},
   "outputs": [],
   "source": [
    "! pip install rpy2\n",
    "%load_ext rpy2.ipython"
   ]
  },
  {
   "cell_type": "code",
   "execution_count": 64,
   "metadata": {},
   "outputs": [],
   "source": [
    "dataejemplo = pd.DataFrame({\"k\": [i for i in range(1, 5)]+[i for i in range(1, 5)], \"m\": [i*10 for i in range(1, 5)] + [i*14 for i in range(1, 5)], \"fp\": [1/i for i in range(1, 5)] + [1/(i+1) for i in range(1, 5)]})\n",
    "dataejemplo.to_csv(\"datosconFP.csv\", index=False)"
   ]
  },
  {
   "cell_type": "markdown",
   "metadata": {},
   "source": [
    "#### Con esta opción pueden ver \"3 variables\" los fp y como cambian con respecto a m para una k fija. La k fija es la que se ve como \"subtítulo en la gráfica\". NOTA: si hacen el experimento con muchas k's esta matriz de gráficas se vería muy fea"
   ]
  },
  {
   "cell_type": "code",
   "execution_count": 65,
   "metadata": {},
   "outputs": [
    {
     "data": {
      "image/png": "[encoded data removed]",
      "text/plain": [
       "<IPython.core.display.Image object>"
      ]
     },
     "metadata": {},
     "output_type": "display_data"
    }
   ],
   "source": [
    "%%R\n",
    "library(ggplot2)\n",
    "data <- read.csv(\"datosconFP.csv\")\n",
    "g <- ggplot(data, aes(x=m, y = fp)) + geom_line() + geom_point() + facet_wrap(~k)\n",
    "g"
   ]
  }
 ],
 "metadata": {
  "kernelspec": {
   "display_name": "Python 3.9.16 ('tf')",
   "language": "python",
   "name": "python3"
  },
  "language_info": {
   "codemirror_mode": {
    "name": "ipython",
    "version": 3
   },
   "file_extension": ".py",
   "mimetype": "text/x-python",
   "name": "python",
   "nbconvert_exporter": "python",
   "pygments_lexer": "ipython3",
   "version": "3.9.16"
  },
  "orig_nbformat": 4,
  "vscode": {
   "interpreter": {
    "hash": "14487f5c225bd05c6c9ac8af8137f2f7994d348ee343098416209a0c908c775a"
   }
  }
 },
 "nbformat": 4,
 "nbformat_minor": 2
}
